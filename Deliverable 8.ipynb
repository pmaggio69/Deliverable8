{
 "cells": [
  {
   "cell_type": "code",
   "execution_count": 14,
   "id": "0fc2feea",
   "metadata": {},
   "outputs": [],
   "source": [
    "import numpy as np"
   ]
  },
  {
   "cell_type": "code",
   "execution_count": 15,
   "id": "8120b6a4",
   "metadata": {},
   "outputs": [],
   "source": [
    "def random_list(size):\n",
    "    list = []\n",
    "    for i in range(size):\n",
    "        list.append(np.random.randint(10,50))\n",
    "    return list\n",
    "\n",
    "def sum_random (list):\n",
    "    sum = sum(list)\n",
    "    return sum"
   ]
  },
  {
   "cell_type": "code",
   "execution_count": null,
   "id": "509b27a1",
   "metadata": {},
   "outputs": [],
   "source": [
    "n = int(input(\"Enter some integer\"))"
   ]
  },
  {
   "cell_type": "code",
   "execution_count": null,
   "id": "5e96224d",
   "metadata": {},
   "outputs": [],
   "source": [
    "MyList = random_list(n)\n",
    "MyList"
   ]
  },
  {
   "cell_type": "code",
   "execution_count": null,
   "id": "73755325",
   "metadata": {},
   "outputs": [],
   "source": [
    "MySum = sum_random(MyList)\n",
    "MySum"
   ]
  }
 ],
 "metadata": {
  "kernelspec": {
   "display_name": "Python 3 (ipykernel)",
   "language": "python",
   "name": "python3"
  },
  "language_info": {
   "codemirror_mode": {
    "name": "ipython",
    "version": 3
   },
   "file_extension": ".py",
   "mimetype": "text/x-python",
   "name": "python",
   "nbconvert_exporter": "python",
   "pygments_lexer": "ipython3",
   "version": "3.9.12"
  }
 },
 "nbformat": 4,
 "nbformat_minor": 5
}
